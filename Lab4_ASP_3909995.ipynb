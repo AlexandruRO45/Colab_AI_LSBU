{
  "nbformat": 4,
  "nbformat_minor": 0,
  "metadata": {
    "colab": {
      "provenance": []
    },
    "kernelspec": {
      "name": "python3",
      "display_name": "Python 3"
    },
    "language_info": {
      "name": "python"
    },
    "accelerator": "GPU",
    "gpuClass": "standard"
  },
  "cells": [
    {
      "cell_type": "markdown",
      "source": [
        "Google Colab, short for Google Colaboratory, is an online platform that provides a Python development environment in the cloud **[1]**. It allows you to write, execute, and collaborate on Python code directly in your web browser, without the need for any local installations or setup **[1]**. Below it one example of running a simple Python code to demostrate the Python Environment:"
      ],
      "metadata": {
        "id": "IGo8VIblSA0a"
      }
    },
    {
      "cell_type": "code",
      "source": [
        "print ('Hello World')"
      ],
      "metadata": {
        "colab": {
          "base_uri": "https://localhost:8080/"
        },
        "id": "6tnQbXsyQZKI",
        "outputId": "834c39c0-b308-4c2b-a26e-18fabb053c14"
      },
      "execution_count": null,
      "outputs": [
        {
          "output_type": "stream",
          "name": "stdout",
          "text": [
            "Hello World\n"
          ]
        }
      ]
    },
    {
      "cell_type": "markdown",
      "source": [
        "The output should print the text \"__Hello World__\""
      ],
      "metadata": {
        "id": "g6EOXB1ZUthl"
      }
    },
    {
      "cell_type": "markdown",
      "source": [
        "Colab integrates seamlessly with Jupyter Notebook, a popular interactive computing environment. It allows you to create and run code cells, view their output, and add text and visual elements using Markdown **[2]**. Below there are few more examples of Python code running through cells"
      ],
      "metadata": {
        "id": "t_zPdr82Q42q"
      }
    },
    {
      "cell_type": "code",
      "source": [
        "print(6)"
      ],
      "metadata": {
        "colab": {
          "base_uri": "https://localhost:8080/"
        },
        "id": "7FYmWtMwQdEl",
        "outputId": "1a4fcd08-c334-4fe9-90c1-2a41107b1651"
      },
      "execution_count": null,
      "outputs": [
        {
          "output_type": "stream",
          "name": "stdout",
          "text": [
            "6\n"
          ]
        }
      ]
    },
    {
      "cell_type": "code",
      "source": [
        "a = 5\n",
        "b = 15\n",
        "sum = a + b"
      ],
      "metadata": {
        "id": "GPcaNdxrQgcc"
      },
      "execution_count": null,
      "outputs": []
    },
    {
      "cell_type": "code",
      "source": [
        "print(sum)"
      ],
      "metadata": {
        "colab": {
          "base_uri": "https://localhost:8080/"
        },
        "id": "FZJ0yOmSQlyk",
        "outputId": "f88ad042-788c-4e56-e653-f32f682c562c"
      },
      "execution_count": null,
      "outputs": [
        {
          "output_type": "stream",
          "name": "stdout",
          "text": [
            "20\n"
          ]
        }
      ]
    },
    {
      "cell_type": "markdown",
      "source": [
        "This notebook:\n",
        "\n",
        "https://colab.research.google.com/drive/1viwPb5CMlAkKkZiIyrFUR_PSpSz1eeMP?usp=sharing \n",
        "\n",
        "covers the fundamentals of the Python programming language. This should bring a solid understanding of working with variables and solving expressions using various mathematical operations."
      ],
      "metadata": {
        "id": "y6wdkQ3MVRnb"
      }
    },
    {
      "cell_type": "markdown",
      "source": [
        "## Practise"
      ],
      "metadata": {
        "id": "WGKczivNiLOu"
      }
    },
    {
      "cell_type": "code",
      "execution_count": null,
      "metadata": {
        "id": "zUCowIgjiLO1"
      },
      "outputs": [],
      "source": [
        "import time #importing libraries "
      ]
    },
    {
      "cell_type": "code",
      "source": [
        "print(time.ctime()) #printing function, used to display output text/data"
      ],
      "metadata": {
        "colab": {
          "base_uri": "https://localhost:8080/"
        },
        "outputId": "146b0332-b48c-4c6f-ba29-521dab54797b",
        "id": "4yWArL1PiLO1"
      },
      "execution_count": null,
      "outputs": [
        {
          "output_type": "stream",
          "name": "stdout",
          "text": [
            "Sun Mar 19 18:52:32 2023\n"
          ]
        }
      ]
    },
    {
      "cell_type": "code",
      "source": [
        "23*43 #multiplication"
      ],
      "metadata": {
        "colab": {
          "base_uri": "https://localhost:8080/"
        },
        "outputId": "a09740ad-bdfb-4a70-aabf-2d64e4567e0b",
        "id": "sGMplNTwiLO1"
      },
      "execution_count": null,
      "outputs": [
        {
          "output_type": "execute_result",
          "data": {
            "text/plain": [
              "989"
            ]
          },
          "metadata": {},
          "execution_count": 12
        }
      ]
    },
    {
      "cell_type": "code",
      "source": [
        "a=7 #store value"
      ],
      "metadata": {
        "id": "Ehbbxda5iLO1"
      },
      "execution_count": null,
      "outputs": []
    },
    {
      "cell_type": "code",
      "source": [
        "49/a #division"
      ],
      "metadata": {
        "colab": {
          "base_uri": "https://localhost:8080/"
        },
        "outputId": "aa934ec4-7afd-496c-9690-aab031e969e2",
        "id": "amk8rC4piLO1"
      },
      "execution_count": null,
      "outputs": [
        {
          "output_type": "execute_result",
          "data": {
            "text/plain": [
              "7.0"
            ]
          },
          "metadata": {},
          "execution_count": 15
        }
      ]
    },
    {
      "cell_type": "code",
      "source": [
        "a=2 \n",
        "b=3\n",
        "sum = a + b\n",
        "sum"
      ],
      "metadata": {
        "colab": {
          "base_uri": "https://localhost:8080/"
        },
        "outputId": "db46a892-d6a8-49b9-a57c-5b6aa70845c6",
        "id": "H-YFApOmiLO2"
      },
      "execution_count": null,
      "outputs": [
        {
          "output_type": "execute_result",
          "data": {
            "text/plain": [
              "5"
            ]
          },
          "metadata": {},
          "execution_count": 6
        }
      ]
    },
    {
      "cell_type": "markdown",
      "source": [
        "Python list/directories"
      ],
      "metadata": {
        "id": "TbIaeH3eiLO2"
      }
    },
    {
      "cell_type": "code",
      "source": [
        "list1=['apple','banana','cherry']\n",
        "list2=[1,5,7,9,3]\n",
        "list3=[True, False, False]\n"
      ],
      "metadata": {
        "id": "o7MK_6NviLO2"
      },
      "execution_count": null,
      "outputs": []
    },
    {
      "cell_type": "code",
      "source": [
        "print ('This is list 1: ',list1)\n",
        "print ('This is list 2: ',list2)\n",
        "print ('This is list 3: ',list3)\n"
      ],
      "metadata": {
        "colab": {
          "base_uri": "https://localhost:8080/"
        },
        "outputId": "7e7312f1-c6a3-4f00-ffd6-69e93323bd70",
        "id": "XdwHQBfxiLO2"
      },
      "execution_count": null,
      "outputs": [
        {
          "output_type": "stream",
          "name": "stdout",
          "text": [
            "This is list 1:  ['apple', 'banana', 'cherry']\n",
            "This is list 2:  [1, 5, 7, 9, 3]\n",
            "This is list 3:  [True, False, False]\n"
          ]
        }
      ]
    },
    {
      "cell_type": "code",
      "source": [
        "List_A = [1, 2, 3, 4, 5]\n",
        "List_B = [11, 12, 13, 14, 15]"
      ],
      "metadata": {
        "id": "H8PJMwMeiLO2"
      },
      "execution_count": null,
      "outputs": []
    },
    {
      "cell_type": "code",
      "source": [
        "print (List_A * List_B)\n"
      ],
      "metadata": {
        "colab": {
          "base_uri": "https://localhost:8080/",
          "height": 165
        },
        "outputId": "1b7144e5-b1e3-4cc6-f97f-906a68e9e3b0",
        "id": "jQkblpojiLO2"
      },
      "execution_count": null,
      "outputs": [
        {
          "output_type": "error",
          "ename": "TypeError",
          "evalue": "ignored",
          "traceback": [
            "\u001b[0;31m---------------------------------------------------------------------------\u001b[0m",
            "\u001b[0;31mTypeError\u001b[0m                                 Traceback (most recent call last)",
            "\u001b[0;32m<ipython-input-28-cb06d988b0e1>\u001b[0m in \u001b[0;36m<cell line: 1>\u001b[0;34m()\u001b[0m\n\u001b[0;32m----> 1\u001b[0;31m \u001b[0mprint\u001b[0m \u001b[0;34m(\u001b[0m\u001b[0mList_A\u001b[0m \u001b[0;34m*\u001b[0m \u001b[0mList_B\u001b[0m\u001b[0;34m)\u001b[0m\u001b[0;34m\u001b[0m\u001b[0;34m\u001b[0m\u001b[0m\n\u001b[0m",
            "\u001b[0;31mTypeError\u001b[0m: can't multiply sequence by non-int of type 'list'"
          ]
        }
      ]
    },
    {
      "cell_type": "markdown",
      "source": [
        "TypeError: can’t multiply sequence by non-int of type ‘list’. "
      ],
      "metadata": {
        "id": "V5JNhxDJiLO2"
      }
    },
    {
      "cell_type": "markdown",
      "source": [
        "## Exercise 1: **Introduction to Numpy**"
      ],
      "metadata": {
        "id": "h5Fzuh5hQAXb"
      }
    },
    {
      "cell_type": "markdown",
      "source": [
        "NumPy is a powerful linear algebra library for Python. What makes it so important is that almost all of the libraries in the PyData ecosystem (pandas, scipy, scikit-learn, etc.) rely on NumPy as one of their main building blocks **[3]**. Plus, we will use it to generate data for our Artificial Intelligence and Machine Learning applications later on!\n",
        "NumPy has many built-in functions and capabilities. We won't cover them all but instead we will focus on some of the most important aspects of NumPy: vectors, arrays, matrices and number generation. Let's start by discussing arrays. \n",
        "Let's begin our introduction by exploring how to create NumPy arrays.\n",
        "Before jumping into NumPy, first discuss Python list. \n"
      ],
      "metadata": {
        "id": "YtT8nmexRQ3o"
      }
    },
    {
      "cell_type": "markdown",
      "source": [
        "* **Python list:**"
      ],
      "metadata": {
        "id": "3Lru2R0cW2U0"
      }
    },
    {
      "cell_type": "markdown",
      "source": [
        "Lists are used to store multiple items in a single variable.\n",
        "> Collection of values\n",
        "\n",
        "> Hold different types of data (String, Integers and Boolean data type)\n",
        "\n",
        "> Add, remove or change elements\n"
      ],
      "metadata": {
        "id": "wsM6yBeKWWoj"
      }
    },
    {
      "cell_type": "code",
      "source": [
        "list1 = [\"apple\", \"banana\", \"cherry\"]\n",
        "list2 = [1, 5, 7, 9, 3]\n",
        "list3 = [True, False, False]"
      ],
      "metadata": {
        "id": "7TixMd93WmYG"
      },
      "execution_count": null,
      "outputs": []
    },
    {
      "cell_type": "code",
      "source": [
        "print(list1)\n",
        "print(list2)\n",
        "print(list3)"
      ],
      "metadata": {
        "colab": {
          "base_uri": "https://localhost:8080/"
        },
        "id": "_ubaEWxVWsjt",
        "outputId": "576e40c6-13ba-4578-f6b6-73a7ef748a61"
      },
      "execution_count": null,
      "outputs": [
        {
          "output_type": "stream",
          "name": "stdout",
          "text": [
            "['apple', 'banana', 'cherry']\n",
            "[1, 5, 7, 9, 3]\n",
            "[True, False, False]\n"
          ]
        }
      ]
    },
    {
      "cell_type": "markdown",
      "source": [
        "* **Limitation of Python list:**"
      ],
      "metadata": {
        "id": "U_qUteOqQnIC"
      }
    },
    {
      "cell_type": "code",
      "source": [
        "List_A = [1, 2, 3, 4, 5]\n",
        "List_B = [11, 12, 13, 14, 15]"
      ],
      "metadata": {
        "id": "GSMFdDyWRyQ1"
      },
      "execution_count": null,
      "outputs": []
    },
    {
      "cell_type": "code",
      "source": [
        "print(List_A * List_B)"
      ],
      "metadata": {
        "colab": {
          "base_uri": "https://localhost:8080/",
          "height": 165
        },
        "id": "BPnkMeAwR5J2",
        "outputId": "04c3678b-ba3b-4539-c1b1-aa5e6e6650b0"
      },
      "execution_count": null,
      "outputs": [
        {
          "output_type": "error",
          "ename": "TypeError",
          "evalue": "ignored",
          "traceback": [
            "\u001b[0;31m---------------------------------------------------------------------------\u001b[0m",
            "\u001b[0;31mTypeError\u001b[0m                                 Traceback (most recent call last)",
            "\u001b[0;32m<ipython-input-10-99ea8b66fd6f>\u001b[0m in \u001b[0;36m<cell line: 1>\u001b[0;34m()\u001b[0m\n\u001b[0;32m----> 1\u001b[0;31m \u001b[0mprint\u001b[0m\u001b[0;34m(\u001b[0m\u001b[0mList_A\u001b[0m \u001b[0;34m*\u001b[0m \u001b[0mList_B\u001b[0m\u001b[0;34m)\u001b[0m\u001b[0;34m\u001b[0m\u001b[0;34m\u001b[0m\u001b[0m\n\u001b[0m",
            "\u001b[0;31mTypeError\u001b[0m: can't multiply sequence by non-int of type 'list'"
          ]
        }
      ]
    },
    {
      "cell_type": "markdown",
      "source": [
        "*Result: TypeError: can't multiply sequence by non-int of type 'list'*\n",
        "\n",
        "In Python, it is not possible to multiply two lists together using the multiplication operator (*). The operator is not defined for list multiplication. List multiplication is typically used for list repetition or concatenation, not for element-wise multiplication. When two lists are multiplied, a TypeError is raised, indicating that a sequence (list) cannot be multiplied by a non-integer type (another list)."
      ],
      "metadata": {
        "id": "6NfPZFHXXUut"
      }
    },
    {
      "cell_type": "markdown",
      "source": [
        "Python has no idea how to perform calculation with the list. So, in order to overcome this error, we have to multiply each element of list A with list B. \n"
      ],
      "metadata": {
        "id": "DMgjhgLVXktl"
      }
    },
    {
      "cell_type": "code",
      "source": [
        "print( List_A[0] * List_B[0])"
      ],
      "metadata": {
        "colab": {
          "base_uri": "https://localhost:8080/"
        },
        "id": "OiX5ekL_XmX1",
        "outputId": "de8142e1-e32e-42cc-bf24-2cf8df0cc55a"
      },
      "execution_count": null,
      "outputs": [
        {
          "output_type": "stream",
          "name": "stdout",
          "text": [
            "11\n"
          ]
        }
      ]
    },
    {
      "cell_type": "markdown",
      "source": [
        "* **NumPy:**"
      ],
      "metadata": {
        "id": "7MoWsUkBugO4"
      }
    },
    {
      "cell_type": "markdown",
      "source": [
        "Using the NumPy package provides a more efficient and concise approach to achieve accurate results. Unlike regular Python lists, NumPy arrays offer enhanced data analysis capabilities.\n",
        "\n",
        "> NumPy serves as an alternative to regular Python lists.\n",
        "\n",
        "> Utilizing NumPy allows for more efficient data analysis compared to using lists.\n",
        "\n",
        "> It enables performing calculations over the entire array.\n",
        "\n",
        "> Arrays in NumPy can have one or more dimensions.\n",
        "\n",
        "To use the NumPy package, begin by importing it into your code:"
      ],
      "metadata": {
        "id": "U1K1QFIuguWC"
      }
    },
    {
      "cell_type": "code",
      "source": [
        "import numpy as np"
      ],
      "metadata": {
        "id": "1Scxa-xUSJBj"
      },
      "execution_count": null,
      "outputs": []
    },
    {
      "cell_type": "markdown",
      "source": [
        "Now let's create new two lists:"
      ],
      "metadata": {
        "id": "X2kPKM18g_TX"
      }
    },
    {
      "cell_type": "code",
      "source": [
        "List_A = [1, 2, 3, 4, 5] \n",
        "List_B = [11, 12, 13, 14, 15]"
      ],
      "metadata": {
        "id": "sVW0SKtgYIvg"
      },
      "execution_count": null,
      "outputs": []
    },
    {
      "cell_type": "markdown",
      "source": [
        "Let's convert list A and B into numPy array: "
      ],
      "metadata": {
        "id": "hjGu3x5qZjvg"
      }
    },
    {
      "cell_type": "code",
      "source": [
        "A = np.array(List_A)\n",
        "B = np.array(List_B)"
      ],
      "metadata": {
        "id": "TNxNy0CtSNHt"
      },
      "execution_count": null,
      "outputs": []
    },
    {
      "cell_type": "markdown",
      "source": [
        "Now let's perfume different print statements:"
      ],
      "metadata": {
        "id": "VDFwQVhDZqR3"
      }
    },
    {
      "cell_type": "code",
      "source": [
        "print (A)\n",
        "print (B)"
      ],
      "metadata": {
        "colab": {
          "base_uri": "https://localhost:8080/"
        },
        "id": "oMd3BREAYMWO",
        "outputId": "8462775b-97f4-457e-d6b8-9b3126135227"
      },
      "execution_count": null,
      "outputs": [
        {
          "output_type": "stream",
          "name": "stdout",
          "text": [
            "[1 2 3 4 5]\n",
            "[11 12 13 14 15]\n"
          ]
        }
      ]
    },
    {
      "cell_type": "markdown",
      "source": [
        "> Printing array A: This displays the contents of array A, which are the elements [1, 2, 3, 4, 5].\n",
        "\n",
        "> Printing array B: This displays the contents of array B, which are the elements [11, 12, 13, 14, 15].\n",
        "\n",
        "\n",
        "\n",
        "\n"
      ],
      "metadata": {
        "id": "3H4f2bdYZZqb"
      }
    },
    {
      "cell_type": "code",
      "source": [
        "print (A * B) #multiplying index by index index 0: 11 * 1 index 1: 2 *12 and so on"
      ],
      "metadata": {
        "colab": {
          "base_uri": "https://localhost:8080/"
        },
        "id": "CHIbcwm1SWV5",
        "outputId": "de3751bf-0011-4884-f06a-024001407ddd"
      },
      "execution_count": null,
      "outputs": [
        {
          "output_type": "stream",
          "name": "stdout",
          "text": [
            "[11 24 39 56 75]\n"
          ]
        }
      ]
    },
    {
      "cell_type": "markdown",
      "source": [
        "\n",
        "\n",
        "> Printing the element-wise multiplication of arrays A and B (A * B): This multiplies each corresponding element in A with the corresponding element in B, resulting in the array [11, 24, 39, 56, 75].\n",
        "\n"
      ],
      "metadata": {
        "id": "ic2P4IUAZ8x_"
      }
    },
    {
      "cell_type": "code",
      "source": [
        "print (A *2)"
      ],
      "metadata": {
        "colab": {
          "base_uri": "https://localhost:8080/"
        },
        "id": "iuY7NRMbYUCu",
        "outputId": "bf716ef2-21ac-4acb-a03d-11ccc77999df"
      },
      "execution_count": null,
      "outputs": [
        {
          "output_type": "stream",
          "name": "stdout",
          "text": [
            "[ 2  4  6  8 10]\n"
          ]
        }
      ]
    },
    {
      "cell_type": "markdown",
      "source": [
        "\n",
        "\n",
        "> Printing the scalar multiplication of array A by 2 (A * 2): This multiplies each element in A by 2, resulting in the array [2, 4, 6, 8, 10].\n",
        "\n"
      ],
      "metadata": {
        "id": "SAs2UQg-aCiV"
      }
    },
    {
      "cell_type": "code",
      "source": [
        "print (A *2)"
      ],
      "metadata": {
        "colab": {
          "base_uri": "https://localhost:8080/"
        },
        "id": "i0kZNeKJYZ2R",
        "outputId": "1cb184f2-bbab-4994-ac55-bc17ed134086"
      },
      "execution_count": null,
      "outputs": [
        {
          "output_type": "stream",
          "name": "stdout",
          "text": [
            "[ 2  4  6  8 10]\n"
          ]
        }
      ]
    },
    {
      "cell_type": "markdown",
      "source": [
        "\n",
        "\n",
        "> Printing the scalar multiplication of array A by 2 (A * 2) again: This is a repetition of the previous statement, resulting in the same array [2, 4, 6, 8, 10].\n",
        "\n"
      ],
      "metadata": {
        "id": "ihqxdCHKaIDO"
      }
    },
    {
      "cell_type": "code",
      "source": [
        "print (A + A)"
      ],
      "metadata": {
        "colab": {
          "base_uri": "https://localhost:8080/"
        },
        "id": "I6GSb0NIYfhA",
        "outputId": "b203af83-597f-45ab-8f6b-d6777c774451"
      },
      "execution_count": null,
      "outputs": [
        {
          "output_type": "stream",
          "name": "stdout",
          "text": [
            "[ 2  4  6  8 10]\n"
          ]
        }
      ]
    },
    {
      "cell_type": "markdown",
      "source": [
        "\n",
        "\n",
        "> Printing the element-wise addition of arrays A and A (A + A): This adds each corresponding element in A with the corresponding element in A, resulting in the array [2, 4, 6, 8, 10].\n",
        "\n"
      ],
      "metadata": {
        "id": "WVoHPcQUaSu8"
      }
    },
    {
      "cell_type": "code",
      "source": [
        "print (A + B)"
      ],
      "metadata": {
        "colab": {
          "base_uri": "https://localhost:8080/"
        },
        "id": "1GDhFJWIYhyj",
        "outputId": "8ea0e95d-01a6-41ea-c6e4-74e28a8f9d6f"
      },
      "execution_count": null,
      "outputs": [
        {
          "output_type": "stream",
          "name": "stdout",
          "text": [
            "[12 14 16 18 20]\n"
          ]
        }
      ]
    },
    {
      "cell_type": "markdown",
      "source": [
        "\n",
        "\n",
        "> Printing the element-wise addition of arrays A and B (A + B): This adds each corresponding element in A with the corresponding element in B, resulting in the array [12, 14, 16, 18, 20].\n",
        "\n"
      ],
      "metadata": {
        "id": "3BG73fMTaUv4"
      }
    },
    {
      "cell_type": "markdown",
      "source": [
        "* **Nested list (`array` function->NumPy):**"
      ],
      "metadata": {
        "id": "oMPQQzFPahQv"
      }
    },
    {
      "cell_type": "markdown",
      "source": [
        "A nested list in Python is a list that contains other lists as its elements, forming a hierarchical structure. In other words, it is a list that can hold any type of object, including other lists (sublists), which can also contain their own sublists, and this nesting can continue to any level **[4]**.\n",
        "\n",
        "Nested lists allow for the creation of more complex data structures, enabling the representation of multi-dimensional data or hierarchical relationships **[4]**. Each level of nesting represents a new dimension or level of hierarchy within the data structure.\n",
        "\n",
        "Here's an example of a nested list:"
      ],
      "metadata": {
        "id": "v57GYXYRhw1g"
      }
    },
    {
      "cell_type": "code",
      "source": [
        "NL = [[1,2], [3,4], [5,6], [7,8],[9,10]]"
      ],
      "metadata": {
        "id": "dA0EkmKpbTZ0"
      },
      "execution_count": null,
      "outputs": []
    },
    {
      "cell_type": "code",
      "source": [
        "print(NL)"
      ],
      "metadata": {
        "colab": {
          "base_uri": "https://localhost:8080/"
        },
        "id": "6nQdj_iibW_q",
        "outputId": "6d7881e2-ea43-4ec8-bbea-c22bb673c602"
      },
      "execution_count": null,
      "outputs": [
        {
          "output_type": "stream",
          "name": "stdout",
          "text": [
            "[[1, 2], [3, 4], [5, 6], [7, 8], [9, 10]]\n"
          ]
        }
      ]
    },
    {
      "cell_type": "markdown",
      "source": [
        "Now let's try it using NumPy:"
      ],
      "metadata": {
        "id": "tUP9HMGBh4MW"
      }
    },
    {
      "cell_type": "code",
      "source": [
        "NL1 = np.array(NL)\n",
        "NL1"
      ],
      "metadata": {
        "colab": {
          "base_uri": "https://localhost:8080/"
        },
        "id": "ACWnK7Maba-x",
        "outputId": "5f2cd35b-da38-45b8-d492-6f9fc0b0845d"
      },
      "execution_count": null,
      "outputs": [
        {
          "output_type": "execute_result",
          "data": {
            "text/plain": [
              "array([[ 1,  2],\n",
              "       [ 3,  4],\n",
              "       [ 5,  6],\n",
              "       [ 7,  8],\n",
              "       [ 9, 10]])"
            ]
          },
          "metadata": {},
          "execution_count": 65
        }
      ]
    },
    {
      "cell_type": "code",
      "source": [
        "print (NL1)"
      ],
      "metadata": {
        "colab": {
          "base_uri": "https://localhost:8080/"
        },
        "id": "wA93z17ebgxf",
        "outputId": "ff0a648b-85e7-4d5b-96f5-29dcdeaf24ed"
      },
      "execution_count": null,
      "outputs": [
        {
          "output_type": "stream",
          "name": "stdout",
          "text": [
            "[[ 1  2]\n",
            " [ 3  4]\n",
            " [ 5  6]\n",
            " [ 7  8]\n",
            " [ 9 10]]\n"
          ]
        }
      ]
    },
    {
      "cell_type": "markdown",
      "source": [
        "It can be noticed that NumPy keeps the shape of the nested list. "
      ],
      "metadata": {
        "id": "7Q2lk5GO3fU9"
      }
    },
    {
      "cell_type": "markdown",
      "source": [
        "*Practise exercise: Create a NumPy array with name `my_array` with the below elements*"
      ],
      "metadata": {
        "id": "SGlXJmaC3liP"
      }
    },
    {
      "cell_type": "code",
      "source": [
        "array = [ [1, 4, 5, 6], [7, 8, 9, 10], [11, 12, 14, 16] ]\n",
        "print(array) "
      ],
      "metadata": {
        "colab": {
          "base_uri": "https://localhost:8080/"
        },
        "id": "OyRkB6y3bq-f",
        "outputId": "481d5991-0663-4225-8a01-b6274d1adf42"
      },
      "execution_count": null,
      "outputs": [
        {
          "output_type": "stream",
          "name": "stdout",
          "text": [
            "[[1, 4, 5, 6], [7, 8, 9, 10], [11, 12, 14, 16]]\n"
          ]
        }
      ]
    },
    {
      "cell_type": "code",
      "source": [
        "my_array = np.array(array)\n",
        "print(my_array)"
      ],
      "metadata": {
        "colab": {
          "base_uri": "https://localhost:8080/"
        },
        "id": "C8qYVUQjcK5f",
        "outputId": "b708ab5b-8469-4a57-fb77-38f56dc34b55"
      },
      "execution_count": null,
      "outputs": [
        {
          "output_type": "stream",
          "name": "stdout",
          "text": [
            "[[ 1  4  5  6]\n",
            " [ 7  8  9 10]\n",
            " [11 12 14 16]]\n"
          ]
        }
      ]
    },
    {
      "cell_type": "markdown",
      "source": [
        "* **Arrange function->NumPy:**"
      ],
      "metadata": {
        "id": "uT6phQCvc5eQ"
      }
    },
    {
      "cell_type": "markdown",
      "source": [
        "The NumPy `arange` function generates a 1-dimensional array with evenly spaced values within a specified interval **[5]**. It takes parameters such as the start and stop values, and an optional step value to determine the spacing between consecutive values **[5]**. The resulting array does not include the stop value. `arange` is commonly used in numerical computations and data analysis tasks **[5]**."
      ],
      "metadata": {
        "id": "8X-nYLVL7qLC"
      }
    },
    {
      "cell_type": "code",
      "source": [
        "np.arange(0,5)"
      ],
      "metadata": {
        "colab": {
          "base_uri": "https://localhost:8080/"
        },
        "id": "P9Kf02Tkc_GH",
        "outputId": "12f5666d-0184-4eed-d9d2-d1459e8bc66d"
      },
      "execution_count": null,
      "outputs": [
        {
          "output_type": "execute_result",
          "data": {
            "text/plain": [
              "array([0, 1, 2, 3, 4])"
            ]
          },
          "metadata": {},
          "execution_count": 29
        }
      ]
    },
    {
      "cell_type": "markdown",
      "source": [
        "This will generate an array with evenly spaced number starting 0 up to 5 - not including 5."
      ],
      "metadata": {
        "id": "gu6nHQOY7-0a"
      }
    },
    {
      "cell_type": "code",
      "source": [
        "np.arange(0,16)"
      ],
      "metadata": {
        "colab": {
          "base_uri": "https://localhost:8080/"
        },
        "id": "eT_S0_GDdBrv",
        "outputId": "b588ce70-ac18-404b-b567-2b9d43267ada"
      },
      "execution_count": null,
      "outputs": [
        {
          "output_type": "execute_result",
          "data": {
            "text/plain": [
              "array([ 0,  1,  2,  3,  4,  5,  6,  7,  8,  9, 10, 11, 12, 13, 14, 15])"
            ]
          },
          "metadata": {},
          "execution_count": 30
        }
      ]
    },
    {
      "cell_type": "markdown",
      "source": [
        "It can be included a step size in np.arange function. Let's introduce 2 as a step size."
      ],
      "metadata": {
        "id": "Ulyh1CbI8Bf7"
      }
    },
    {
      "cell_type": "code",
      "source": [
        "np.arange(0,16,2)"
      ],
      "metadata": {
        "colab": {
          "base_uri": "https://localhost:8080/"
        },
        "id": "jXPSbb-BdEW2",
        "outputId": "563fec8b-11d5-45e1-fc75-0f326db9cc6c"
      },
      "execution_count": null,
      "outputs": [
        {
          "output_type": "execute_result",
          "data": {
            "text/plain": [
              "array([ 0,  2,  4,  6,  8, 10, 12, 14])"
            ]
          },
          "metadata": {},
          "execution_count": 31
        }
      ]
    },
    {
      "cell_type": "markdown",
      "source": [
        "* **Zeros and Ones functions->NumPy:**"
      ],
      "metadata": {
        "id": "sgJfhZ3MdH-9"
      }
    },
    {
      "cell_type": "markdown",
      "source": [
        "In NumPy, you can generate arrays filled with zeros or ones of specific dimensions using the `zeros()` and `ones()` functions, respectively. The `zeros()` function creates an array filled with zeros **[6]**, while the `ones()` function creates an array filled with ones **[7]**. By specifying the number of rows and columns, you can generate arrays with the desired dimensions **[6],[7]**."
      ],
      "metadata": {
        "id": "rCQRB-zZ8Zni"
      }
    },
    {
      "cell_type": "code",
      "source": [
        "np.zeros(1)"
      ],
      "metadata": {
        "colab": {
          "base_uri": "https://localhost:8080/"
        },
        "id": "oGmOBrQIdTgc",
        "outputId": "48b1745f-cf2a-4d67-a6fa-ecc1dc7c00f1"
      },
      "execution_count": null,
      "outputs": [
        {
          "output_type": "execute_result",
          "data": {
            "text/plain": [
              "array([0.])"
            ]
          },
          "metadata": {},
          "execution_count": 32
        }
      ]
    },
    {
      "cell_type": "code",
      "source": [
        "np.zeros(2)"
      ],
      "metadata": {
        "colab": {
          "base_uri": "https://localhost:8080/"
        },
        "id": "w8WWStKndUmy",
        "outputId": "bb72e2c6-efa4-451f-8b15-dea6bd877a65"
      },
      "execution_count": null,
      "outputs": [
        {
          "output_type": "execute_result",
          "data": {
            "text/plain": [
              "array([0., 0.])"
            ]
          },
          "metadata": {},
          "execution_count": 33
        }
      ]
    },
    {
      "cell_type": "code",
      "source": [
        "np.zeros(5)"
      ],
      "metadata": {
        "colab": {
          "base_uri": "https://localhost:8080/"
        },
        "id": "_09ceYqZdWQl",
        "outputId": "9b4956a3-eb7e-46d7-b70d-f9c863c654c0"
      },
      "execution_count": null,
      "outputs": [
        {
          "output_type": "execute_result",
          "data": {
            "text/plain": [
              "array([0., 0., 0., 0., 0.])"
            ]
          },
          "metadata": {},
          "execution_count": 34
        }
      ]
    },
    {
      "cell_type": "markdown",
      "source": [
        "Notice that Numpy gives zeros as `0.` as this indicates that these numbers are floating numbers.\n",
        "\n",
        "Let's now create an 4x4 matrix of zeros.\n"
      ],
      "metadata": {
        "id": "OaUDUvZp833y"
      }
    },
    {
      "cell_type": "code",
      "source": [
        "np.zeros((5,5))"
      ],
      "metadata": {
        "colab": {
          "base_uri": "https://localhost:8080/"
        },
        "id": "Gd9rI-8EdYWF",
        "outputId": "b1829338-b94c-4d9e-adbc-0c4319711a0d"
      },
      "execution_count": null,
      "outputs": [
        {
          "output_type": "execute_result",
          "data": {
            "text/plain": [
              "array([[0., 0., 0., 0., 0.],\n",
              "       [0., 0., 0., 0., 0.],\n",
              "       [0., 0., 0., 0., 0.],\n",
              "       [0., 0., 0., 0., 0.],\n",
              "       [0., 0., 0., 0., 0.]])"
            ]
          },
          "metadata": {},
          "execution_count": 35
        }
      ]
    },
    {
      "cell_type": "markdown",
      "source": [
        "It can also be generated as a 4x15 matrix."
      ],
      "metadata": {
        "id": "WDUNBMoU89Yx"
      }
    },
    {
      "cell_type": "code",
      "source": [
        "np.zeros((4,15))"
      ],
      "metadata": {
        "colab": {
          "base_uri": "https://localhost:8080/"
        },
        "id": "x0h9w7lidbVj",
        "outputId": "a458b237-3071-45d3-ff9e-6e929e511b57"
      },
      "execution_count": null,
      "outputs": [
        {
          "output_type": "execute_result",
          "data": {
            "text/plain": [
              "array([[0., 0., 0., 0., 0., 0., 0., 0., 0., 0., 0., 0., 0., 0., 0.],\n",
              "       [0., 0., 0., 0., 0., 0., 0., 0., 0., 0., 0., 0., 0., 0., 0.],\n",
              "       [0., 0., 0., 0., 0., 0., 0., 0., 0., 0., 0., 0., 0., 0., 0.],\n",
              "       [0., 0., 0., 0., 0., 0., 0., 0., 0., 0., 0., 0., 0., 0., 0.]])"
            ]
          },
          "metadata": {},
          "execution_count": 36
        }
      ]
    },
    {
      "cell_type": "markdown",
      "source": [
        "If the numbers in the arrays are desired to be integers, the `dtype` (data type) needs to be specified as `int`."
      ],
      "metadata": {
        "id": "MDdlYzXq9HTO"
      }
    },
    {
      "cell_type": "code",
      "source": [
        "np.zeros((4,15), dtype=int)"
      ],
      "metadata": {
        "colab": {
          "base_uri": "https://localhost:8080/"
        },
        "id": "e3k3k4IDdeff",
        "outputId": "8e85fc26-4ee8-4c42-8876-0043a878c287"
      },
      "execution_count": null,
      "outputs": [
        {
          "output_type": "execute_result",
          "data": {
            "text/plain": [
              "array([[0, 0, 0, 0, 0, 0, 0, 0, 0, 0, 0, 0, 0, 0, 0],\n",
              "       [0, 0, 0, 0, 0, 0, 0, 0, 0, 0, 0, 0, 0, 0, 0],\n",
              "       [0, 0, 0, 0, 0, 0, 0, 0, 0, 0, 0, 0, 0, 0, 0],\n",
              "       [0, 0, 0, 0, 0, 0, 0, 0, 0, 0, 0, 0, 0, 0, 0]])"
            ]
          },
          "metadata": {},
          "execution_count": 37
        }
      ]
    },
    {
      "cell_type": "markdown",
      "source": [
        "Similarly, it can be done with ones."
      ],
      "metadata": {
        "id": "JZ1B90Hq9tOc"
      }
    },
    {
      "cell_type": "code",
      "source": [
        "np.ones(4)"
      ],
      "metadata": {
        "colab": {
          "base_uri": "https://localhost:8080/"
        },
        "id": "vF7l8UI6deb-",
        "outputId": "435c6caa-ead9-4bc9-bf42-cf7bae6c9a18"
      },
      "execution_count": null,
      "outputs": [
        {
          "output_type": "execute_result",
          "data": {
            "text/plain": [
              "array([1., 1., 1., 1.])"
            ]
          },
          "metadata": {},
          "execution_count": 38
        }
      ]
    },
    {
      "cell_type": "code",
      "source": [
        "np.ones((3,7))"
      ],
      "metadata": {
        "colab": {
          "base_uri": "https://localhost:8080/"
        },
        "id": "wC1FVFgudnxY",
        "outputId": "0d746f3e-60e8-4964-c7a0-4d3f9527cd4c"
      },
      "execution_count": null,
      "outputs": [
        {
          "output_type": "execute_result",
          "data": {
            "text/plain": [
              "array([[1., 1., 1., 1., 1., 1., 1.],\n",
              "       [1., 1., 1., 1., 1., 1., 1.],\n",
              "       [1., 1., 1., 1., 1., 1., 1.]])"
            ]
          },
          "metadata": {},
          "execution_count": 39
        }
      ]
    },
    {
      "cell_type": "markdown",
      "source": [
        "* **Linspace function->NumPy:**"
      ],
      "metadata": {
        "id": "GmBlaY6jduVu"
      }
    },
    {
      "cell_type": "markdown",
      "source": [
        "Linspace is a function in NumPy that generates an array of evenly spaced numbers within a specified interval **[8]**. It takes a start and end value, along with the number of elements desired in the sequence, and creates an array with evenly distributed values between the start and end points **[8]**."
      ],
      "metadata": {
        "id": "WG4Wtezn9_1s"
      }
    },
    {
      "cell_type": "code",
      "source": [
        "np.linspace(0,20,3)"
      ],
      "metadata": {
        "colab": {
          "base_uri": "https://localhost:8080/"
        },
        "id": "JflLeaDNdtzj",
        "outputId": "ade007ed-35c4-45e3-cd21-d0bf8e45b9b3"
      },
      "execution_count": null,
      "outputs": [
        {
          "output_type": "execute_result",
          "data": {
            "text/plain": [
              "array([ 0., 10., 20.])"
            ]
          },
          "metadata": {},
          "execution_count": 40
        }
      ]
    },
    {
      "cell_type": "markdown",
      "source": [
        "The number of evenly spaced numbers can be increased to create a more dense array. An array of 20 evenly spaced numbers between 0 and 20 can be created."
      ],
      "metadata": {
        "id": "VUsFp9Dm-P43"
      }
    },
    {
      "cell_type": "code",
      "source": [
        "np.linspace(0,20,20)"
      ],
      "metadata": {
        "colab": {
          "base_uri": "https://localhost:8080/"
        },
        "id": "WrQO1eJ5d7hG",
        "outputId": "5757c3f3-1aab-4e0e-a231-887a678508b3"
      },
      "execution_count": null,
      "outputs": [
        {
          "output_type": "execute_result",
          "data": {
            "text/plain": [
              "array([ 0.        ,  1.05263158,  2.10526316,  3.15789474,  4.21052632,\n",
              "        5.26315789,  6.31578947,  7.36842105,  8.42105263,  9.47368421,\n",
              "       10.52631579, 11.57894737, 12.63157895, 13.68421053, 14.73684211,\n",
              "       15.78947368, 16.84210526, 17.89473684, 18.94736842, 20.        ])"
            ]
          },
          "metadata": {},
          "execution_count": 41
        }
      ]
    },
    {
      "cell_type": "markdown",
      "source": [
        "* **Eye function->NumPy:**"
      ],
      "metadata": {
        "id": "WS_ROKvweD_O"
      }
    },
    {
      "cell_type": "markdown",
      "source": [
        "An identity matrix, also known as an \"eye\" matrix, is a special square matrix in which all the elements along the main diagonal are 1, and all other elements are 0. It serves as the identity element in matrix multiplication, meaning that when multiplied with any other matrix, it does not change the matrix **[9]**. In NumPy, the `eye()` function is used to create identity matrices."
      ],
      "metadata": {
        "id": "FBB6xcfv-0J_"
      }
    },
    {
      "cell_type": "code",
      "source": [
        "np.eye(2)"
      ],
      "metadata": {
        "colab": {
          "base_uri": "https://localhost:8080/"
        },
        "id": "p4GmyWYheAYm",
        "outputId": "565a99cd-bba1-4c0c-db6c-be8559fc6384"
      },
      "execution_count": null,
      "outputs": [
        {
          "output_type": "execute_result",
          "data": {
            "text/plain": [
              "array([[1., 0.],\n",
              "       [0., 1.]])"
            ]
          },
          "metadata": {},
          "execution_count": 42
        }
      ]
    },
    {
      "cell_type": "code",
      "source": [
        "np.eye(4)"
      ],
      "metadata": {
        "colab": {
          "base_uri": "https://localhost:8080/"
        },
        "id": "QaRGqGl4eI_X",
        "outputId": "034bef46-f268-4c90-d843-1fa9de2df047"
      },
      "execution_count": null,
      "outputs": [
        {
          "output_type": "execute_result",
          "data": {
            "text/plain": [
              "array([[1., 0., 0., 0.],\n",
              "       [0., 1., 0., 0.],\n",
              "       [0., 0., 1., 0.],\n",
              "       [0., 0., 0., 1.]])"
            ]
          },
          "metadata": {},
          "execution_count": 43
        }
      ]
    },
    {
      "cell_type": "code",
      "source": [
        "np.eye(7)"
      ],
      "metadata": {
        "colab": {
          "base_uri": "https://localhost:8080/"
        },
        "id": "q9VVph2PeNdR",
        "outputId": "10cdd859-e7be-49ee-d667-497959c2a7cf"
      },
      "execution_count": null,
      "outputs": [
        {
          "output_type": "execute_result",
          "data": {
            "text/plain": [
              "array([[1., 0., 0., 0., 0., 0., 0.],\n",
              "       [0., 1., 0., 0., 0., 0., 0.],\n",
              "       [0., 0., 1., 0., 0., 0., 0.],\n",
              "       [0., 0., 0., 1., 0., 0., 0.],\n",
              "       [0., 0., 0., 0., 1., 0., 0.],\n",
              "       [0., 0., 0., 0., 0., 1., 0.],\n",
              "       [0., 0., 0., 0., 0., 0., 1.]])"
            ]
          },
          "metadata": {},
          "execution_count": 44
        }
      ]
    },
    {
      "cell_type": "markdown",
      "source": [
        "Creating identity matrix is very useful for many linear programming and algebra applications. "
      ],
      "metadata": {
        "id": "9y8mbmuk_Nnq"
      }
    },
    {
      "cell_type": "markdown",
      "source": [
        "* **Random sampling functions->NumPy (rand):**"
      ],
      "metadata": {
        "id": "Xo4ze0QMeXfh"
      }
    },
    {
      "cell_type": "markdown",
      "source": [
        "Random sampling `numpy.random` is a module in the NumPy library that allows for generating random numbers and arrays **[10]**. It offers functions like `random`, `randint`, `normal`, and `choice` to generate random values based on different distributions and requirements **[10]**. These functions are commonly used for simulations, statistics, and machine learning tasks. The generated random numbers are pseudo-random and can be controlled using a seed value **[10]**. In short, the function `numpy.random.rand()` creates an array with a specified shape and fills it with random values sampled from a uniform distribution over the interval (0, 1)."
      ],
      "metadata": {
        "id": "fKMATvflG43s"
      }
    },
    {
      "cell_type": "code",
      "source": [
        "np.random.rand(3)"
      ],
      "metadata": {
        "colab": {
          "base_uri": "https://localhost:8080/"
        },
        "id": "MYoDcKSwegxn",
        "outputId": "b299c8a3-912a-4856-ee83-bfdb789d9b96"
      },
      "execution_count": null,
      "outputs": [
        {
          "output_type": "execute_result",
          "data": {
            "text/plain": [
              "array([0.78897674, 0.65362383, 0.72216022])"
            ]
          },
          "metadata": {},
          "execution_count": 45
        }
      ]
    },
    {
      "cell_type": "code",
      "source": [
        "np.random.rand(2)"
      ],
      "metadata": {
        "colab": {
          "base_uri": "https://localhost:8080/"
        },
        "id": "liV3Z7zYelFq",
        "outputId": "223970c5-7c15-4a1e-c7c6-c40f74d2de23"
      },
      "execution_count": null,
      "outputs": [
        {
          "output_type": "execute_result",
          "data": {
            "text/plain": [
              "array([0.57065923, 0.54215405])"
            ]
          },
          "metadata": {},
          "execution_count": 46
        }
      ]
    },
    {
      "cell_type": "code",
      "source": [
        "np.random.rand(2,3)"
      ],
      "metadata": {
        "colab": {
          "base_uri": "https://localhost:8080/"
        },
        "id": "tc2z11PVenW5",
        "outputId": "8d370f61-5015-4c7d-9aaa-03ed7e42cd21"
      },
      "execution_count": null,
      "outputs": [
        {
          "output_type": "execute_result",
          "data": {
            "text/plain": [
              "array([[0.43336248, 0.43775801, 0.67185037],\n",
              "       [0.23930387, 0.94214959, 0.87163831]])"
            ]
          },
          "metadata": {},
          "execution_count": 47
        }
      ]
    },
    {
      "cell_type": "markdown",
      "source": [
        "Two random numbers with a uniform distribution between zero and one can be obtained. If the cell is run again, different random numbers will be generated."
      ],
      "metadata": {
        "id": "A_NfcdLDIPIy"
      }
    },
    {
      "cell_type": "markdown",
      "source": [
        "* **Random sampling functions->NumPy (randint):**"
      ],
      "metadata": {
        "id": "GEujosXVesPK"
      }
    },
    {
      "cell_type": "markdown",
      "source": [
        "The `numpy.random.randint` function returns a random array of integers within the specified range and shape **[10]**. This function is useful for generating random integer values for various applications, such as simulations, random sampling, or generating test data **[10]**."
      ],
      "metadata": {
        "id": "Zp9wFjxnIgdf"
      }
    },
    {
      "cell_type": "code",
      "source": [
        "np.random.randint(0,100)"
      ],
      "metadata": {
        "colab": {
          "base_uri": "https://localhost:8080/"
        },
        "id": "A1ha9zjpezPC",
        "outputId": "4308b73a-bd22-4f0f-cef5-306e2830e3ca"
      },
      "execution_count": null,
      "outputs": [
        {
          "output_type": "execute_result",
          "data": {
            "text/plain": [
              "97"
            ]
          },
          "metadata": {},
          "execution_count": 48
        }
      ]
    },
    {
      "cell_type": "code",
      "source": [
        "np.random.randint(0,200,15)"
      ],
      "metadata": {
        "colab": {
          "base_uri": "https://localhost:8080/"
        },
        "id": "JRLcb7q7e0vs",
        "outputId": "60b53c3b-a422-43fa-df68-06865b009162"
      },
      "execution_count": null,
      "outputs": [
        {
          "output_type": "execute_result",
          "data": {
            "text/plain": [
              "array([134,  21, 110,  88, 145,  75,  10, 199,  41,  56, 154, 110,  49,\n",
              "       159, 104])"
            ]
          },
          "metadata": {},
          "execution_count": 49
        }
      ]
    },
    {
      "cell_type": "code",
      "source": [
        "np.random.randint(0,200,(3,5))"
      ],
      "metadata": {
        "colab": {
          "base_uri": "https://localhost:8080/"
        },
        "id": "-Yg6GMtGe4yq",
        "outputId": "2c1821b8-d47b-41c9-e594-00b5ea486d1b"
      },
      "execution_count": null,
      "outputs": [
        {
          "output_type": "execute_result",
          "data": {
            "text/plain": [
              "array([[ 81, 170,  31,  14,  31],\n",
              "       [ 58, 108, 195, 161, 101],\n",
              "       [  3,  28,  65,  98, 153]])"
            ]
          },
          "metadata": {},
          "execution_count": 50
        }
      ]
    },
    {
      "cell_type": "markdown",
      "source": [
        "* **Reshape function->NumPy:**"
      ],
      "metadata": {
        "id": "9a3zkG28e-th"
      }
    },
    {
      "cell_type": "markdown",
      "source": [
        "Reshaping in NumPy refers to changing the shape of an array without modifying the data. It involves creating a new array with a different arrangement of elements **[11]**. The `reshape()` function in NumPy is used for this purpose. It takes the desired shape as input and returns a new array with the same data but in the specified shape **[11]**. Reshaping is useful for tasks like dimension conversion and preparing data for analysis or visualization **[11]**."
      ],
      "metadata": {
        "id": "GAmMGukiJD_E"
      }
    },
    {
      "cell_type": "code",
      "source": [
        "arr = np.arange(25)\n",
        "arr"
      ],
      "metadata": {
        "colab": {
          "base_uri": "https://localhost:8080/"
        },
        "id": "LDQrKC_sfF3b",
        "outputId": "826bd565-98b2-460f-c307-1ee78db1aee8"
      },
      "execution_count": null,
      "outputs": [
        {
          "output_type": "execute_result",
          "data": {
            "text/plain": [
              "array([ 0,  1,  2,  3,  4,  5,  6,  7,  8,  9, 10, 11, 12, 13, 14, 15, 16,\n",
              "       17, 18, 19, 20, 21, 22, 23, 24])"
            ]
          },
          "metadata": {},
          "execution_count": 51
        }
      ]
    },
    {
      "cell_type": "code",
      "source": [
        "arr.shape"
      ],
      "metadata": {
        "colab": {
          "base_uri": "https://localhost:8080/"
        },
        "id": "wo6PLXfDfI5K",
        "outputId": "2140906e-24e1-4602-a2b2-b4833e615ad6"
      },
      "execution_count": null,
      "outputs": [
        {
          "output_type": "execute_result",
          "data": {
            "text/plain": [
              "(25,)"
            ]
          },
          "metadata": {},
          "execution_count": 52
        }
      ]
    },
    {
      "cell_type": "code",
      "source": [
        "arr.reshape(5,5)"
      ],
      "metadata": {
        "colab": {
          "base_uri": "https://localhost:8080/"
        },
        "id": "LW0Q7JRifMn-",
        "outputId": "2313d90a-fde4-4855-f0fd-1ea9899172fa"
      },
      "execution_count": null,
      "outputs": [
        {
          "output_type": "execute_result",
          "data": {
            "text/plain": [
              "array([[ 0,  1,  2,  3,  4],\n",
              "       [ 5,  6,  7,  8,  9],\n",
              "       [10, 11, 12, 13, 14],\n",
              "       [15, 16, 17, 18, 19],\n",
              "       [20, 21, 22, 23, 24]])"
            ]
          },
          "metadata": {},
          "execution_count": 53
        }
      ]
    },
    {
      "cell_type": "code",
      "source": [
        "arr"
      ],
      "metadata": {
        "colab": {
          "base_uri": "https://localhost:8080/"
        },
        "id": "dEbd4WyrfONj",
        "outputId": "d32c4ec0-1583-44d9-fa77-de13ac6d20d4"
      },
      "execution_count": null,
      "outputs": [
        {
          "output_type": "execute_result",
          "data": {
            "text/plain": [
              "array([ 0,  1,  2,  3,  4,  5,  6,  7,  8,  9, 10, 11, 12, 13, 14, 15, 16,\n",
              "       17, 18, 19, 20, 21, 22, 23, 24])"
            ]
          },
          "metadata": {},
          "execution_count": 54
        }
      ]
    },
    {
      "cell_type": "markdown",
      "source": [
        "By using the `reshape()` function, we can reshape the `arr` array into a 5x5 array. Importantly, this operation does not modify the original `arr` array. Even if the `reshape()` function is called multiple times, the original `arr` array remains unchanged."
      ],
      "metadata": {
        "id": "8spYwNA8Ji3d"
      }
    },
    {
      "cell_type": "markdown",
      "source": [
        "* **Max, Min, Argmax, Argmin functions->NumPy:**"
      ],
      "metadata": {
        "id": "aSyPF_WSfRov"
      }
    },
    {
      "cell_type": "markdown",
      "source": [
        "> max: A NumPy function that returns the maximum value in an array.\n",
        "\n",
        "> min: A NumPy function that returns the minimum value in an array.\n",
        "\n",
        "> argmax: A NumPy function that returns the index of the maximum value in an array.\n",
        "\n",
        "> argmin: A NumPy function that returns the index of the minimum value in an array.\n",
        "\n",
        "These functions are useful for finding the maximum or minimum values in an array, as well as determining their index positions. They provide efficient ways to analyze and manipulate numerical data using NumPy arrays **[4]**."
      ],
      "metadata": {
        "id": "ZAoDRNNdJ1sU"
      }
    },
    {
      "cell_type": "code",
      "source": [
        "arr = np.arange(25)\n",
        "arr"
      ],
      "metadata": {
        "colab": {
          "base_uri": "https://localhost:8080/"
        },
        "id": "NX47eslVfcbl",
        "outputId": "8fdb0b36-49da-4e7a-a693-d80fc484052a"
      },
      "execution_count": null,
      "outputs": [
        {
          "output_type": "execute_result",
          "data": {
            "text/plain": [
              "array([ 0,  1,  2,  3,  4,  5,  6,  7,  8,  9, 10, 11, 12, 13, 14, 15, 16,\n",
              "       17, 18, 19, 20, 21, 22, 23, 24])"
            ]
          },
          "metadata": {},
          "execution_count": 55
        }
      ]
    },
    {
      "cell_type": "code",
      "source": [
        "arr.max()"
      ],
      "metadata": {
        "colab": {
          "base_uri": "https://localhost:8080/"
        },
        "id": "JMizYcPAffrP",
        "outputId": "943058d0-a913-46dd-b1e9-984dc8b148d4"
      },
      "execution_count": null,
      "outputs": [
        {
          "output_type": "execute_result",
          "data": {
            "text/plain": [
              "24"
            ]
          },
          "metadata": {},
          "execution_count": 56
        }
      ]
    },
    {
      "cell_type": "code",
      "source": [
        "arr.min()"
      ],
      "metadata": {
        "colab": {
          "base_uri": "https://localhost:8080/"
        },
        "id": "OJ4KtzXjfhV9",
        "outputId": "a20dd786-558a-4fd1-9eb0-9302bd425fa0"
      },
      "execution_count": null,
      "outputs": [
        {
          "output_type": "execute_result",
          "data": {
            "text/plain": [
              "0"
            ]
          },
          "metadata": {},
          "execution_count": 57
        }
      ]
    },
    {
      "cell_type": "code",
      "source": [
        "arr.argmax()"
      ],
      "metadata": {
        "colab": {
          "base_uri": "https://localhost:8080/"
        },
        "id": "EUNKTwobfiyr",
        "outputId": "92f6151f-f6e0-4b1e-99f4-a766e158700a"
      },
      "execution_count": null,
      "outputs": [
        {
          "output_type": "execute_result",
          "data": {
            "text/plain": [
              "24"
            ]
          },
          "metadata": {},
          "execution_count": 58
        }
      ]
    },
    {
      "cell_type": "code",
      "source": [
        "arr.argmin()"
      ],
      "metadata": {
        "colab": {
          "base_uri": "https://localhost:8080/"
        },
        "id": "QrrdCKCEflYK",
        "outputId": "73699be6-b3c4-47f3-87f7-1f710f6457d7"
      },
      "execution_count": null,
      "outputs": [
        {
          "output_type": "execute_result",
          "data": {
            "text/plain": [
              "0"
            ]
          },
          "metadata": {},
          "execution_count": 59
        }
      ]
    },
    {
      "cell_type": "markdown",
      "source": [
        "* **Dtype function->NumPy:**"
      ],
      "metadata": {
        "id": "_yUIr3qygLVv"
      }
    },
    {
      "cell_type": "markdown",
      "source": [
        "In NumPy, \"dtype\" refers to the data type of elements in a NumPy array. It represents the specific type of values stored, such as integers or floats. By accessing the \"dtype\" attribute, you can determine the data type of the array's elements, allowing for proper data handling and type-specific operations."
      ],
      "metadata": {
        "id": "uQa_TgxFKM88"
      }
    },
    {
      "cell_type": "code",
      "source": [
        "arr.dtype"
      ],
      "metadata": {
        "colab": {
          "base_uri": "https://localhost:8080/"
        },
        "id": "gOwj7m49fu9U",
        "outputId": "7e4780a6-fba6-43bb-dd37-a6faea2dc252"
      },
      "execution_count": null,
      "outputs": [
        {
          "output_type": "execute_result",
          "data": {
            "text/plain": [
              "dtype('int64')"
            ]
          },
          "metadata": {},
          "execution_count": 64
        }
      ]
    },
    {
      "cell_type": "markdown",
      "source": [
        "## Refrences"
      ],
      "metadata": {
        "id": "_4KqMndAci_P"
      }
    },
    {
      "cell_type": "markdown",
      "source": [
        "**[1]** “Google colaboratory introduction,” Google Colaboratory Introduction - AguaClara Tutorial v0.1.0 documentation. Available at: https://aguaclara.github.io/aguaclara_tutorial/colab/colab-introduction.html (Accessed: March 20, 2023). \n",
        "\n",
        "**[2]** \"Google colaboratory markdown\", Google Colab. Available at: https://colab.research.google.com/notebooks/markdown_guide.ipynb (Accessed: March 20, 2023).\n",
        "\n",
        "**[3]** “NumPy documentation,” NumPy documentation - NumPy Manual. Available at: https://numpy.org/doc/stable/ (Accessed March 20, 2023).\n",
        "\n",
        "**[4]** Y. Tang, “Nested lists in Python,” PythonAlgos. Available at: https://pythonalgos.com/nested-lists-in-python/ (Accessed March 20, 2023). \n",
        "\n",
        "**[5]** “Numpy.arange,” numpy.arange - NumPy Manual. Available at: https://numpy.org/doc/stable/reference/generated/numpy.arange.html (Accessed March 20, 2023). \n",
        "\n",
        "**[6]** “Numpy.zeros,” numpy.zeros - NumPy Manual. Available at: https://numpy.org/doc/stable/reference/generated/numpy.zeros.html (Accessed March 20, 2023). \n",
        "\n",
        "**[7]** “Numpy.ones,” numpy.ones - NumPy Manual. Available at: https://numpy.org/doc/stable/reference/generated/numpy.ones.html (Accessed March 20, 2023). \n",
        "\n",
        "**[8]** “Numpy.linspace,” numpy.linspace - NumPy Manual. Available at: https://numpy.org/doc/stable/reference/generated/numpy.linspace.html (Accessed March 20, 2023). \n",
        "\n",
        "**[9]** “Numpy.eye,” numpy.eye - NumPy Manual. Available at: https://numpy.org/doc/stable/reference/generated/numpy.eye.html (Accessed March 20, 2023). \n",
        "\n",
        "**[10]** “Random sampling (numpy.random),” Random sampling (numpy.random) - NumPy Manual. Available at: https://numpy.org/doc/stable/reference/random/index.html (Accessed March 20, 2023). \n",
        "\n",
        "**[11]** “Numpy.arange,” numpy.arange - NumPy Manual. Available at: https://numpy.org/doc/stable/reference/generated/numpy.arange.html (Accessed March 20, 2023). "
      ],
      "metadata": {
        "id": "Rp3hMWQqiYxq"
      }
    }
  ]
}